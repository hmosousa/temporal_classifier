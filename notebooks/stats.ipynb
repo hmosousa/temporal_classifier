{
 "cells": [
  {
   "cell_type": "code",
   "execution_count": 2,
   "metadata": {},
   "outputs": [],
   "source": []
  },
  {
   "cell_type": "markdown",
   "metadata": {},
   "source": [
    "Tempeval-3 raw point relation counts."
   ]
  },
  {
   "cell_type": "code",
   "execution_count": 5,
   "metadata": {},
   "outputs": [],
   "source": [
    "point_relation_counts = {\n",
    "    \"<\": {\n",
    "        \"start_start\": 27236,\n",
    "        \"start_end\": 39054,\n",
    "        \"end_start\": 22286,\n",
    "        \"end_end\": 31707,\n",
    "    },\n",
    "    \">\": {\n",
    "        \"start_start\": 28004,\n",
    "        \"start_end\": 18648,\n",
    "        \"end_start\": 35358,\n",
    "        \"end_end\": 23421,\n",
    "    },\n",
    "    \"=\": {\n",
    "        \"start_start\": 2864,\n",
    "        \"start_end\": 159,\n",
    "        \"end_start\": 171,\n",
    "        \"end_end\": 2962,\n",
    "    },\n",
    "    \"-\": {\n",
    "        \"start_start\": 0,\n",
    "        \"start_end\": 226,\n",
    "        \"end_start\": 292,\n",
    "        \"end_end\": 0,\n",
    "    },\n",
    "}"
   ]
  },
  {
   "cell_type": "code",
   "execution_count": null,
   "metadata": {},
   "outputs": [],
   "source": []
  }
 ],
 "metadata": {
  "kernelspec": {
   "display_name": "Python 3",
   "language": "python",
   "name": "python3"
  },
  "language_info": {
   "codemirror_mode": {
    "name": "ipython",
    "version": 3
   },
   "file_extension": ".py",
   "mimetype": "text/x-python",
   "name": "python",
   "nbconvert_exporter": "python",
   "pygments_lexer": "ipython3",
   "version": "3.11.10"
  }
 },
 "nbformat": 4,
 "nbformat_minor": 2
}
